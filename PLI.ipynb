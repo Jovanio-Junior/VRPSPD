{
 "cells": [
  {
   "cell_type": "code",
   "execution_count": 1,
   "id": "6b07793c",
   "metadata": {},
   "outputs": [],
   "source": [
    "import gurobipy as gp\n"
   ]
  },
  {
   "cell_type": "code",
   "execution_count": 2,
   "id": "ff12acad",
   "metadata": {},
   "outputs": [],
   "source": [
    "V = [1, 2, 3, 4, 5, 6, 7, 8, 9]\n",
    "V_0 = [0] + V\n",
    "n = len(V)  # numero de clientes\n",
    "Q = 500  # capacidade\n",
    "MD = 7000  # Distancia Maxima para todo k\n",
    "K = 3  # numero de veiculos disponiveis\n"
   ]
  },
  {
   "cell_type": "code",
   "execution_count": 3,
   "id": "6fe7e7d7",
   "metadata": {},
   "outputs": [],
   "source": [
    "Distance_Matrix = [[0, 300, 713, 890, 828, 978, 1202, 476, 974, 1253],\n",
    "                   [300, 0, 825, 721, 990, 1031, 1048, 281, 1029, 1092],\n",
    "                   [713, 825, 0, 746, 1468, 1681, 903, 689, 1676, 961],\n",
    "                   [890, 721, 746, 0, 1696, 1749, 328, 441, 1747, 371],\n",
    "                   [828, 990, 1467, 1696, 0, 385, 2018, 1257, 379, 2066],\n",
    "                   [978, 1031, 1680, 1749, 385, 0, 2077, 1313, 6, 2118],\n",
    "                   [1202, 1048, 903, 328, 2018, 2077, 0, 768, 2075, 59],\n",
    "                   [476, 281, 689, 441, 1257, 1313, 768, 0, 1310, 812],\n",
    "                   [974, 1029, 1676, 1747, 379, 6, 2075, 1310, 0, 2116],\n",
    "                   [1253, 1092, 961, 371, 2066, 2118, 59, 812, 2116, 0]]\n",
    "Demandas = {}\n",
    "Demandas['coleta'] = [0, 62, 17, 50, 6, 49, 9, 9, 15, 51]\n",
    "Demandas['entregas'] = [0, 44, 55, 38, 56, 28, 8, 28, 42, 32]\n",
    "veiculos = [i + 1 for i in range(K)]\n"
   ]
  },
  {
   "cell_type": "code",
   "execution_count": 4,
   "id": "7312604b",
   "metadata": {},
   "outputs": [],
   "source": [
    "m = gp.Model(\"VRPSPD\")\n"
   ]
  },
  {
   "cell_type": "code",
   "execution_count": 5,
   "id": "d2153623",
   "metadata": {},
   "outputs": [],
   "source": [
    "# variaveis\n",
    "x = m.addVars(V_0, V_0, veiculos, vtype=gp.GRB.BINARY, name=\"x\")\n",
    "y = m.addVars(V_0, V_0, vtype=gp.GRB.INTEGER, name=\"y\")  # coleta\n",
    "z = m.addVars(V_0, V_0, vtype=gp.GRB.INTEGER, name=\"z\")  # entrega\n"
   ]
  },
  {
   "cell_type": "code",
   "execution_count": 6,
   "id": "a290c5c7",
   "metadata": {},
   "outputs": [],
   "source": [
    "obj = gp.LinExpr()\n",
    "for k in veiculos:\n",
    "    for i in V_0:\n",
    "        for j in V_0:\n",
    "            obj += Distance_Matrix[i][j] * x[i, j, k]\n"
   ]
  },
  {
   "cell_type": "code",
   "execution_count": 7,
   "id": "e0cc2c9a",
   "metadata": {},
   "outputs": [],
   "source": [
    "# funcao objetivo\n",
    "m.setObjective(obj, sense=gp.GRB.MINIMIZE)\n"
   ]
  },
  {
   "cell_type": "code",
   "execution_count": 8,
   "id": "0e27717e",
   "metadata": {},
   "outputs": [],
   "source": [
    "# restrições\n",
    "r1 = m.addConstrs(\n",
    "    (gp.quicksum(x[i, j, k] for i in V_0 for k in veiculos) == 1 for j in V), name=\"X_ijk_eq_1\"\n",
    ")\n",
    "r2 = m.addConstrs(\n",
    "    (\n",
    "        (gp.quicksum(x[i, j, k] for i in V_0)) -\n",
    "        (gp.quicksum(x[j, i, k] for i in V_0)) == 0\n",
    "        for j in V_0\n",
    "        for k in veiculos\n",
    "    ), name=\"chega_e_sai\"\n",
    ")\n",
    "r3 = m.addConstrs(\n",
    "    (\n",
    "        gp.quicksum(x[0, j, k] for j in V) <= 1\n",
    "        for k in veiculos\n",
    "    ),\n",
    "    name=\"max_k_veiculos\"\n",
    ")\n",
    "r4 = m.addConstrs(\n",
    "    (\n",
    "        gp.quicksum(Distance_Matrix[i][j]*x[i, j, k]\n",
    "                    for i in V_0 for j in V_0) <= MD\n",
    "        for k in veiculos\n",
    "    ),\n",
    "    name=\"distancia_max_k\"\n",
    ")\n",
    "r5 = m.addConstrs(\n",
    "    (\n",
    "        gp.quicksum(y[j, i] for i in V_0) - gp.quicksum(y[i, j] for i in V_0)\n",
    "        == Demandas['coleta'][j] for j in V_0 if j != 0\n",
    "    ),\n",
    "    name=\"fluxo_y\"\n",
    ")\n",
    "r6 = m.addConstrs(\n",
    "    (\n",
    "        gp.quicksum(z[i, j] for i in V_0) - gp.quicksum(z[j, i] for i in V_0)\n",
    "        == Demandas['entregas'][j] for j in V_0 if j != 0\n",
    "    ),\n",
    "    name=\"fluxo_z\"\n",
    ")\n",
    "r7 = m.addConstrs(\n",
    "    (\n",
    "        y[i, j] + z[i, j] <= Q*gp.quicksum(x[i, j, k] for k in veiculos)\n",
    "        for i in V_0\n",
    "        for j in V_0\n",
    "    ),\n",
    "    name=\"capacidade\"\n",
    ")\n"
   ]
  },
  {
   "cell_type": "code",
   "execution_count": 9,
   "id": "e9d62d89",
   "metadata": {},
   "outputs": [],
   "source": [
    "m.update()\n"
   ]
  },
  {
   "cell_type": "code",
   "execution_count": 10,
   "id": "2c0f37cf",
   "metadata": {},
   "outputs": [],
   "source": [
    "m.write(\"modelo1.lp\")\n"
   ]
  },
  {
   "cell_type": "code",
   "execution_count": 11,
   "id": "397aa012",
   "metadata": {},
   "outputs": [
    {
     "name": "stdout",
     "output_type": "stream",
     "text": [
      "Gurobi Optimizer version 10.0.0 build v10.0.0rc2 (win64)\n",
      "\n",
      "CPU model: Intel(R) Core(TM) i5-3550 CPU @ 3.30GHz, instruction set [SSE2|AVX]\n",
      "Thread count: 4 physical cores, 4 logical processors, using up to 4 threads\n",
      "\n",
      "Optimize a model with 163 rows, 500 columns and 1931 nonzeros\n",
      "Model fingerprint: 0xddf7a501\n",
      "Variable types: 0 continuous, 500 integer (300 binary)\n",
      "Coefficient statistics:\n",
      "  Matrix range     [1e+00, 2e+03]\n",
      "  Objective range  [6e+00, 2e+03]\n",
      "  Bounds range     [1e+00, 1e+00]\n",
      "  RHS range        [1e+00, 7e+03]\n",
      "Presolve removed 10 rows and 50 columns\n",
      "Presolve time: 0.01s\n",
      "Presolved: 153 rows, 450 columns, 1830 nonzeros\n",
      "Variable types: 0 continuous, 450 integer (270 binary)\n",
      "\n",
      "Root relaxation: objective 3.358356e+03, 217 iterations, 0.01 seconds (0.00 work units)\n",
      "\n",
      "    Nodes    |    Current Node    |     Objective Bounds      |     Work\n",
      " Expl Unexpl |  Obj  Depth IntInf | Incumbent    BestBd   Gap | It/Node Time\n",
      "\n",
      "     0     0 3358.35600    0   26          - 3358.35600      -     -    0s\n",
      "H    0     0                    5953.0000000 3358.35600  43.6%     -    0s\n",
      "     0     0 4129.41385    0   56 5953.00000 4129.41385  30.6%     -    0s\n",
      "     0     0 4141.02357    0   57 5953.00000 4141.02357  30.4%     -    0s\n",
      "H    0     0                    5565.0000000 4141.02357  25.6%     -    0s\n",
      "     0     0 4141.02357    0   58 5565.00000 4141.02357  25.6%     -    0s\n",
      "     0     0 4442.55440    0   74 5565.00000 4442.55440  20.2%     -    0s\n",
      "     0     0 4505.43505    0   61 5565.00000 4505.43505  19.0%     -    0s\n",
      "H    0     0                    5012.0000000 4508.23754  10.1%     -    0s\n",
      "     0     0 4508.23754    0   63 5012.00000 4508.23754  10.1%     -    0s\n",
      "     0     0 4508.32723    0   64 5012.00000 4508.32723  10.0%     -    0s\n",
      "     0     0 4512.93974    0   82 5012.00000 4512.93974  10.0%     -    0s\n",
      "     0     0 4512.93974    0   17 5012.00000 4512.93974  10.0%     -    0s\n",
      "     0     0 4512.93974    0   77 5012.00000 4512.93974  10.0%     -    0s\n",
      "     0     0 4617.05880    0   70 5012.00000 4617.05880  7.88%     -    0s\n",
      "     0     0 4617.05880    0   74 5012.00000 4617.05880  7.88%     -    0s\n",
      "     0     0 4617.05880    0   73 5012.00000 4617.05880  7.88%     -    0s\n",
      "     0     0 4799.39519    0   69 5012.00000 4799.39519  4.24%     -    0s\n",
      "     0     0 4801.21799    0   70 5012.00000 4801.21799  4.21%     -    0s\n",
      "     0     0 4804.01551    0   66 5012.00000 4804.01551  4.15%     -    0s\n",
      "     0     0 4808.32820    0   79 5012.00000 4808.32820  4.06%     -    0s\n",
      "     0     0 4808.32820    0   17 5012.00000 4808.32820  4.06%     -    0s\n",
      "     0     0 4808.32820    0   46 5012.00000 4808.32820  4.06%     -    0s\n",
      "     0     0 4808.32820    0   59 5012.00000 4808.32820  4.06%     -    0s\n",
      "     0     0 4808.32820    0   72 5012.00000 4808.32820  4.06%     -    0s\n",
      "     0     0 4808.32820    0   69 5012.00000 4808.32820  4.06%     -    0s\n",
      "     0     0 4844.30607    0   65 5012.00000 4844.30607  3.35%     -    0s\n",
      "     0     0 4853.97076    0   73 5012.00000 4853.97076  3.15%     -    0s\n",
      "     0     0 4853.97076    0   75 5012.00000 4853.97076  3.15%     -    0s\n",
      "     0     0 4977.70641    0   61 5012.00000 4977.70641  0.68%     -    0s\n",
      "     0     0 5008.61000    0   49 5012.00000 5008.61000  0.07%     -    0s\n",
      "     0     0 5008.61000    0   54 5012.00000 5008.61000  0.07%     -    0s\n",
      "     0     0 5008.66059    0   70 5012.00000 5008.66059  0.07%     -    0s\n",
      "     0     0 5008.66059    0   22 5012.00000 5008.66059  0.07%     -    0s\n",
      "     0     0 5008.66059    0   57 5012.00000 5008.66059  0.07%     -    0s\n",
      "     0     0 5008.66059    0   51 5012.00000 5008.66059  0.07%     -    0s\n",
      "     0     0 5008.73120    0   67 5012.00000 5008.73120  0.07%     -    0s\n",
      "     0     0     cutoff    0      5012.00000 5012.00000  0.00%     -    0s\n",
      "\n",
      "Cutting planes:\n",
      "  Gomory: 9\n",
      "  Cover: 1\n",
      "  Implied bound: 11\n",
      "  Clique: 2\n",
      "  MIR: 14\n",
      "  StrongCG: 1\n",
      "  Zero half: 4\n",
      "  Relax-and-lift: 3\n",
      "\n",
      "Explored 1 nodes (1817 simplex iterations) in 0.65 seconds (0.09 work units)\n",
      "Thread count was 4 (of 4 available processors)\n",
      "\n",
      "Solution count 3: 5012 5565 5953 \n",
      "\n",
      "Optimal solution found (tolerance 1.00e-04)\n",
      "Best objective 5.012000000000e+03, best bound 5.012000000000e+03, gap 0.0000%\n"
     ]
    }
   ],
   "source": [
    "m.optimize()\n"
   ]
  },
  {
   "cell_type": "code",
   "execution_count": 13,
   "id": "37209f30",
   "metadata": {},
   "outputs": [
    {
     "ename": "TypeError",
     "evalue": "write() takes exactly 2 positional arguments (3 given)",
     "output_type": "error",
     "traceback": [
      "\u001b[1;31m---------------------------------------------------------------------------\u001b[0m",
      "\u001b[1;31mTypeError\u001b[0m                                 Traceback (most recent call last)",
      "\u001b[1;32mc:\\Users\\Jovanio\\Desktop\\devv\\Untitled copy.ipynb Cell 12\u001b[0m in \u001b[0;36m<cell line: 1>\u001b[1;34m()\u001b[0m\n\u001b[1;32m----> <a href='vscode-notebook-cell:/c%3A/Users/Jovanio/Desktop/devv/Untitled%20copy.ipynb#X14sZmlsZQ%3D%3D?line=0'>1</a>\u001b[0m m\u001b[39m.\u001b[39;49mwrite(\u001b[39m\"\u001b[39;49m\u001b[39mformulacao.txt\u001b[39;49m\u001b[39m\"\u001b[39;49m, \u001b[39m\"\u001b[39;49m\u001b[39mLP\u001b[39;49m\u001b[39m\"\u001b[39;49m)\n",
      "File \u001b[1;32msrc\\gurobipy\\model.pxi:1326\u001b[0m, in \u001b[0;36mgurobipy.Model.write\u001b[1;34m()\u001b[0m\n",
      "\u001b[1;31mTypeError\u001b[0m: write() takes exactly 2 positional arguments (3 given)"
     ]
    }
   ],
   "source": [
    "m.write(\"formulacao.txt\", \"LP\")\n"
   ]
  }
 ],
 "metadata": {
  "kernelspec": {
   "display_name": "Python 3.9.7 64-bit (system)",
   "language": "python",
   "name": "python3"
  },
  "language_info": {
   "codemirror_mode": {
    "name": "ipython",
    "version": 3
   },
   "file_extension": ".py",
   "mimetype": "text/x-python",
   "name": "python",
   "nbconvert_exporter": "python",
   "pygments_lexer": "ipython3",
   "version": "3.9.12"
  },
  "vscode": {
   "interpreter": {
    "hash": "ad2bdc8ecc057115af97d19610ffacc2b4e99fae6737bb82f5d7fb13d2f2c186"
   }
  }
 },
 "nbformat": 4,
 "nbformat_minor": 5
}
