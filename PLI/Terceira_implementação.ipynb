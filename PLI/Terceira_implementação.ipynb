{
 "cells": [
  {
   "cell_type": "code",
   "execution_count": 1,
   "id": "6b07793c",
   "metadata": {},
   "outputs": [],
   "source": [
    "#TERCEIRA IMPLEMENTAÇÃO\n",
    "#BIBLIOTECA TIME (ANALISAR O TEMPO DE EXECUÇÃO DO SOLVER)\n",
    "#FUNÇÃO TIMELIMIT DO GUROBI PARA LIMITAR O TEMPO DE EXECUÇÃO\n",
    "#INSTANCIAS GERADAS PARA TESTES\n",
    "# 499 CLIENTES E 1 DEPOSITO\n",
    "# DEMANDAS DE COLETA E ENTREGA GERADAS ALEATORIAMENTE (ENTRE 1 E 10)\n",
    "# MATRIZ DE DISTANCIA GERADA ALEATORIAMENTE (ENTRE 10 E 30)\n",
    "# TIMELIMIT 1600 SEGUNDOS"
   ]
  },
  {
   "cell_type": "code",
   "execution_count": 22,
   "id": "ef3f9df2",
   "metadata": {},
   "outputs": [],
   "source": [
    "import gurobipy as gp\n",
    "import time\n",
    "import pandas as pd\n",
    "import numpy as np\n",
    "import datetime\n"
   ]
  },
  {
   "cell_type": "code",
   "execution_count": 14,
   "id": "ff12acad",
   "metadata": {},
   "outputs": [],
   "source": [
    "V = list(range(1, 500))\n",
    "V_0 = [0] + V\n",
    "n = len(V)  # numero de clientes\n",
    "Q = 500  # capacidade\n",
    "MD = 2000  # Distancia Maxima para todo k\n",
    "K = 5  # numero de veiculos disponiveis\n"
   ]
  },
  {
   "cell_type": "code",
   "execution_count": 29,
   "id": "4533c836",
   "metadata": {},
   "outputs": [],
   "source": [
    "matrizz = pd.read_csv('../dados/Dados Gerados (testes)/499Pontos_e_1Deposito/distancia.csv', header=None)\n",
    "demandass = pd.read_csv(\"../dados/Dados Gerados (testes)/499Pontos_e_1Deposito/demanda.csv\", header=None)\n"
   ]
  },
  {
   "cell_type": "code",
   "execution_count": 16,
   "id": "6fe7e7d7",
   "metadata": {},
   "outputs": [],
   "source": [
    "Distance_Matrix = matrizz.to_numpy()\n",
    "Demandas = {}\n",
    "Demandas['coleta'] = demandass[0].tolist()\n",
    "Demandas['entregas'] = demandass[1].tolist()\n",
    "veiculos = [i + 1 for i in range(K)]\n"
   ]
  },
  {
   "cell_type": "code",
   "execution_count": 17,
   "id": "7312604b",
   "metadata": {},
   "outputs": [
    {
     "name": "stdout",
     "output_type": "stream",
     "text": [
      "Set parameter Username\n",
      "Academic license - for non-commercial use only - expires 2023-11-17\n"
     ]
    }
   ],
   "source": [
    "m = gp.Model(\"VRPSPD\")\n"
   ]
  },
  {
   "cell_type": "code",
   "execution_count": 18,
   "id": "d2153623",
   "metadata": {},
   "outputs": [],
   "source": [
    "# variaveis\n",
    "x = m.addVars(V_0, V_0, veiculos, vtype=gp.GRB.BINARY, name=\"x\")\n",
    "y = m.addVars(V_0, V_0, vtype=gp.GRB.INTEGER, name=\"y\")  # coleta\n",
    "z = m.addVars(V_0, V_0, vtype=gp.GRB.INTEGER, name=\"z\")  # entrega\n"
   ]
  },
  {
   "cell_type": "code",
   "execution_count": 19,
   "id": "a290c5c7",
   "metadata": {},
   "outputs": [],
   "source": [
    "obj = gp.LinExpr()\n",
    "for k in veiculos:\n",
    "    for i in V_0:\n",
    "        for j in V_0:\n",
    "            obj += Distance_Matrix[i][j] * x[i, j, k]\n"
   ]
  },
  {
   "cell_type": "code",
   "execution_count": 20,
   "id": "e0cc2c9a",
   "metadata": {},
   "outputs": [],
   "source": [
    "# funcao objetivo\n",
    "m.setObjective(obj, sense=gp.GRB.MINIMIZE)\n"
   ]
  },
  {
   "cell_type": "code",
   "execution_count": 21,
   "id": "0e27717e",
   "metadata": {},
   "outputs": [],
   "source": [
    "# restrições\n",
    "r1 = m.addConstrs(\n",
    "    (gp.quicksum(x[i, j, k] for i in V_0 for k in veiculos) == 1 for j in V), name=\"X_ijk_eq_1\"\n",
    ")\n",
    "r2 = m.addConstrs(\n",
    "    (\n",
    "        (gp.quicksum(x[i, j, k] for i in V_0)) -\n",
    "        (gp.quicksum(x[j, i, k] for i in V_0)) == 0\n",
    "        for j in V_0\n",
    "        for k in veiculos\n",
    "    ), name=\"chega_e_sai\"\n",
    ")\n",
    "r3 = m.addConstrs(\n",
    "    (\n",
    "        gp.quicksum(x[0, j, k] for j in V) <= 1\n",
    "        for k in veiculos\n",
    "    ),\n",
    "    name=\"max_k_veiculos\"\n",
    ")\n",
    "r4 = m.addConstrs(\n",
    "    (\n",
    "        gp.quicksum(Distance_Matrix[i][j]*x[i, j, k]\n",
    "                    for i in V_0 for j in V_0) <= MD\n",
    "        for k in veiculos\n",
    "    ),\n",
    "    name=\"distancia_max_k\"\n",
    ")\n",
    "r5 = m.addConstrs(\n",
    "    (\n",
    "        gp.quicksum(y[j, i] for i in V_0) - gp.quicksum(y[i, j] for i in V_0)\n",
    "        == Demandas['coleta'][j] for j in V_0 if j != 0\n",
    "    ),\n",
    "    name=\"fluxo_y\"\n",
    ")\n",
    "r6 = m.addConstrs(\n",
    "    (\n",
    "        gp.quicksum(z[i, j] for i in V_0) - gp.quicksum(z[j, i] for i in V_0)\n",
    "        == Demandas['entregas'][j] for j in V_0 if j != 0\n",
    "    ),\n",
    "    name=\"fluxo_z\"\n",
    ")\n",
    "r7 = m.addConstrs(\n",
    "    (\n",
    "        y[i, j] + z[i, j] <= Q*gp.quicksum(x[i, j, k] for k in veiculos)\n",
    "        for i in V_0\n",
    "        for j in V_0\n",
    "    ),\n",
    "    name=\"capacidade\"\n",
    ")\n"
   ]
  },
  {
   "cell_type": "code",
   "execution_count": 24,
   "id": "e9d62d89",
   "metadata": {},
   "outputs": [],
   "source": [
    "m.setParam('TimeLimit', 60)  # 60 segundos\n",
    "m.update()\n",
    "data_atual = datetime.datetime.now().strftime('%Y-%m-%d_%H-%M-%S')\n",
    "m.write(f'../log/{data_atual}_VRPSPD.lp')\n"
   ]
  },
  {
   "cell_type": "code",
   "execution_count": 25,
   "id": "397aa012",
   "metadata": {},
   "outputs": [
    {
     "name": "stdout",
     "output_type": "stream",
     "text": [
      "Gurobi Optimizer version 10.0.1 build v10.0.1rc0 (win64)\n",
      "\n",
      "CPU model: 11th Gen Intel(R) Core(TM) i7-1165G7 @ 2.80GHz, instruction set [SSE2|AVX|AVX2|AVX512]\n",
      "Thread count: 4 physical cores, 8 logical processors, using up to 8 threads\n",
      "\n",
      "Optimize a model with 254007 rows, 1750000 columns and 7738499 nonzeros\n",
      "Model fingerprint: 0x3f064e04\n",
      "Variable types: 0 continuous, 1750000 integer (1250000 binary)\n",
      "Coefficient statistics:\n",
      "  Matrix range     [3e-02, 5e+02]\n",
      "  Objective range  [3e-02, 4e+01]\n",
      "  Bounds range     [1e+00, 1e+00]\n",
      "  RHS range        [1e+00, 2e+03]\n",
      "Presolve removed 500 rows and 3500 columns (presolve time = 5s) ...\n",
      "Presolve removed 500 rows and 3500 columns (presolve time = 10s) ...\n",
      "Presolve removed 505 rows and 3500 columns (presolve time = 15s) ...\n",
      "Presolve removed 500 rows and 3495 columns\n",
      "Presolve time: 19.24s\n",
      "Presolved: 253507 rows, 1746505 columns, 7728249 nonzeros\n",
      "Variable types: 0 continuous, 1746505 integer (1247505 binary)\n",
      "Deterministic concurrent LP optimizer: primal simplex, dual simplex, and barrier\n",
      "Showing barrier log only...\n",
      "\n",
      "Root barrier log...\n",
      "\n",
      "Elapsed ordering time = 5s\n",
      "Elapsed ordering time = 11s\n",
      "Elapsed ordering time = 15s\n",
      "Elapsed ordering time = 20s\n",
      "Ordering time: 21.41s\n",
      "\n",
      "Barrier statistics:\n",
      " AA' NZ     : 7.113e+06\n",
      " Factor NZ  : 1.327e+07 (roughly 1.0 GB of memory)\n",
      " Factor Ops : 2.156e+10 (roughly 1 second per iteration)\n",
      " Threads    : 1\n",
      "\n",
      "                  Objective                Residual\n",
      "Iter       Primal          Dual         Primal    Dual     Compl     Time\n",
      "   0   5.66139396e+08 -3.69249280e+07  1.13e+08 2.22e-16  6.77e+02    59s\n",
      "\n",
      "Barrier performed 0 iterations in 60.07 seconds (80.25 work units)\n",
      "Time limit reached\n",
      "\n",
      "\n",
      "\n",
      "Root relaxation: time limit, 0 iterations, 31.92 seconds (17.57 work units)\n",
      "\n",
      "Explored 1 nodes (0 simplex iterations) in 60.44 seconds (61.58 work units)\n",
      "Thread count was 8 (of 8 available processors)\n",
      "\n",
      "Solution count 0\n",
      "\n",
      "Time limit reached\n",
      "Best objective -, best bound 0.000000000000e+00, gap -\n"
     ]
    }
   ],
   "source": [
    "\n",
    "start_time = time.time()\n",
    "m.optimize()\n",
    "end_time = time.time()\n"
   ]
  },
  {
   "cell_type": "code",
   "execution_count": 26,
   "id": "4d130101",
   "metadata": {},
   "outputs": [
    {
     "name": "stdout",
     "output_type": "stream",
     "text": [
      "Tempo total de execução do modelo:  60.45099997520447\n",
      "Tempo real de execução:  60.45389485359192\n"
     ]
    }
   ],
   "source": [
    "total_time = m.getAttr(\"Runtime\")\n",
    "print(\"Tempo total de execução do modelo: \", total_time)\n",
    "print(\"Tempo real de execução: \", end_time - start_time)\n"
   ]
  },
  {
   "cell_type": "code",
   "execution_count": 27,
   "id": "181bcb83",
   "metadata": {},
   "outputs": [
    {
     "name": "stdout",
     "output_type": "stream",
     "text": [
      "Tempo limite atingido. Melhor solução encontrada até agora:  inf\n"
     ]
    }
   ],
   "source": []
  }
 ],
 "metadata": {
  "kernelspec": {
   "display_name": "Python 3.9.7 64-bit (system)",
   "language": "python",
   "name": "python3"
  },
  "language_info": {
   "codemirror_mode": {
    "name": "ipython",
    "version": 3
   },
   "file_extension": ".py",
   "mimetype": "text/x-python",
   "name": "python",
   "nbconvert_exporter": "python",
   "pygments_lexer": "ipython3",
   "version": "3.9.13"
  },
  "vscode": {
   "interpreter": {
    "hash": "ad2bdc8ecc057115af97d19610ffacc2b4e99fae6737bb82f5d7fb13d2f2c186"
   }
  }
 },
 "nbformat": 4,
 "nbformat_minor": 5
}
