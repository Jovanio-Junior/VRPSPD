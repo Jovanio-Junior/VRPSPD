{
 "cells": [
  {
   "cell_type": "code",
   "execution_count": 58,
   "id": "ef3f9df2",
   "metadata": {},
   "outputs": [],
   "source": [
    "import gurobipy as gp\n",
    "import time\n",
    "import pandas as pd\n",
    "import numpy as np\n",
    "import datetime\n"
   ]
  },
  {
   "cell_type": "code",
   "execution_count": 59,
   "id": "ea4f3fbe",
   "metadata": {},
   "outputs": [],
   "source": [
    "tipo_pontos = \"9Pontos_e_1Deposito\"\n",
    "\n",
    "\n",
    "matrizz = pd.read_csv(f'../dados/Dados Gerados (testes)/{tipo_pontos}/distancia.csv', header=None)\n",
    "demandass = pd.read_csv(f'../dados/Dados Gerados (testes)/{tipo_pontos}/demanda.csv', header=None)"
   ]
  },
  {
   "cell_type": "code",
   "execution_count": 60,
   "id": "ff12acad",
   "metadata": {},
   "outputs": [],
   "source": [
    "V = list(range(1, len(demandass[0])))\n",
    "V_0 = [0] + V\n",
    "n = len(V)  # numero de clientes\n",
    "Q = 500  # capacidade\n",
    "MD = 7000  # Distancia Maxima para todo k\n",
    "K = 2  # numero de veiculos disponiveis\n"
   ]
  },
  {
   "cell_type": "code",
   "execution_count": 61,
   "id": "6fe7e7d7",
   "metadata": {},
   "outputs": [],
   "source": [
    "Distance_Matrix = matrizz.to_numpy()\n",
    "Demandas = {}\n",
    "Demandas['coleta'] = demandass[0].tolist()\n",
    "Demandas['entregas'] = demandass[1].tolist()\n",
    "veiculos = [i + 1 for i in range(K)]\n"
   ]
  },
  {
   "cell_type": "code",
   "execution_count": 62,
   "id": "7312604b",
   "metadata": {},
   "outputs": [],
   "source": [
    "m = gp.Model(\"VRPSPD\")\n"
   ]
  },
  {
   "cell_type": "code",
   "execution_count": 63,
   "id": "d2153623",
   "metadata": {},
   "outputs": [],
   "source": [
    "# variaveis\n",
    "x = m.addVars(V_0, V_0, veiculos, vtype=gp.GRB.BINARY, name=\"x\")\n",
    "y = m.addVars(V_0, V_0, vtype=gp.GRB.INTEGER, name=\"y\")  # coleta\n",
    "z = m.addVars(V_0, V_0, vtype=gp.GRB.INTEGER, name=\"z\")  # entrega\n"
   ]
  },
  {
   "cell_type": "code",
   "execution_count": 64,
   "id": "a290c5c7",
   "metadata": {},
   "outputs": [],
   "source": [
    "obj = gp.LinExpr()\n",
    "for k in veiculos:\n",
    "    for i in V_0:\n",
    "        for j in V_0:\n",
    "            obj += Distance_Matrix[i][j] * x[i, j, k]\n"
   ]
  },
  {
   "cell_type": "code",
   "execution_count": 65,
   "id": "e0cc2c9a",
   "metadata": {},
   "outputs": [],
   "source": [
    "# funcao objetivo\n",
    "m.setObjective(obj, sense=gp.GRB.MINIMIZE)\n"
   ]
  },
  {
   "cell_type": "code",
   "execution_count": 66,
   "id": "0e27717e",
   "metadata": {},
   "outputs": [],
   "source": [
    "# restrições\n",
    "r1 = m.addConstrs(\n",
    "    (gp.quicksum(x[i, j, k] for i in V_0 for k in veiculos) == 1 for j in V), name=\"X_ijk_eq_1\"\n",
    ")\n",
    "r2 = m.addConstrs(\n",
    "    (\n",
    "        (gp.quicksum(x[i, j, k] for i in V_0)) -\n",
    "        (gp.quicksum(x[j, i, k] for i in V_0)) == 0\n",
    "        for j in V_0\n",
    "        for k in veiculos\n",
    "    ), name=\"chega_e_sai\"\n",
    ")\n",
    "r3 = m.addConstrs(\n",
    "    (\n",
    "        gp.quicksum(x[0, j, k] for j in V) <= 1\n",
    "        for k in veiculos\n",
    "    ),\n",
    "    name=\"max_k_veiculos\"\n",
    ")\n",
    "r4 = m.addConstrs(\n",
    "    (\n",
    "        gp.quicksum(Distance_Matrix[i][j]*x[i, j, k]\n",
    "                    for i in V_0 for j in V_0) <= MD\n",
    "        for k in veiculos\n",
    "    ),\n",
    "    name=\"distancia_max_k\"\n",
    ")\n",
    "r5 = m.addConstrs(\n",
    "    (\n",
    "        gp.quicksum(y[j, i] for i in V_0) - gp.quicksum(y[i, j] for i in V_0)\n",
    "        == Demandas['coleta'][j] for j in V_0 if j != 0\n",
    "    ),\n",
    "    name=\"fluxo_y\"\n",
    ")\n",
    "r6 = m.addConstrs(\n",
    "    (\n",
    "        gp.quicksum(z[i, j] for i in V_0) - gp.quicksum(z[j, i] for i in V_0)\n",
    "        == Demandas['entregas'][j] for j in V_0 if j != 0\n",
    "    ),\n",
    "    name=\"fluxo_z\"\n",
    ")\n",
    "r7 = m.addConstrs(\n",
    "    (\n",
    "        y[i, j] + z[i, j] <= Q*gp.quicksum(x[i, j, k] for k in veiculos)\n",
    "        for i in V_0\n",
    "        for j in V_0\n",
    "    ),\n",
    "    name=\"capacidade\"\n",
    ")\n"
   ]
  },
  {
   "cell_type": "code",
   "execution_count": 67,
   "id": "e9d62d89",
   "metadata": {},
   "outputs": [
    {
     "name": "stdout",
     "output_type": "stream",
     "text": [
      "Set parameter TimeLimit to value 60\n"
     ]
    }
   ],
   "source": [
    "m.setParam('TimeLimit', 60)  # 60 segundos\n",
    "m.update()\n",
    "data_atual = datetime.datetime.now().strftime('%Y-%m-%d_%H-%M-%S')\n",
    "m.write(f'../log/{data_atual}_VRPSPD.lp')\n"
   ]
  },
  {
   "cell_type": "code",
   "execution_count": 68,
   "id": "397aa012",
   "metadata": {},
   "outputs": [
    {
     "name": "stdout",
     "output_type": "stream",
     "text": [
      "Gurobi Optimizer version 10.0.1 build v10.0.1rc0 (win64)\n",
      "\n",
      "CPU model: 11th Gen Intel(R) Core(TM) i7-1165G7 @ 2.80GHz, instruction set [SSE2|AVX|AVX2|AVX512]\n",
      "Thread count: 4 physical cores, 8 logical processors, using up to 8 threads\n",
      "\n",
      "Optimize a model with 151 rows, 400 columns and 1462 nonzeros\n",
      "Model fingerprint: 0x7597aa16\n",
      "Variable types: 0 continuous, 400 integer (200 binary)\n",
      "Coefficient statistics:\n",
      "  Matrix range     [1e+00, 2e+03]\n",
      "  Objective range  [6e+00, 2e+03]\n",
      "  Bounds range     [1e+00, 1e+00]\n",
      "  RHS range        [1e+00, 7e+03]\n",
      "Presolve removed 10 rows and 40 columns\n",
      "Presolve time: 0.01s\n",
      "Presolved: 141 rows, 360 columns, 1388 nonzeros\n",
      "Variable types: 0 continuous, 360 integer (180 binary)\n",
      "\n",
      "Root relaxation: objective 3.358356e+03, 164 iterations, 0.00 seconds (0.00 work units)\n",
      "\n",
      "    Nodes    |    Current Node    |     Objective Bounds      |     Work\n",
      " Expl Unexpl |  Obj  Depth IntInf | Incumbent    BestBd   Gap | It/Node Time\n",
      "\n",
      "     0     0 3358.35600    0   17          - 3358.35600      -     -    0s\n",
      "H    0     0                    7700.0000000 3358.35600  56.4%     -    0s\n",
      "     0     0 4012.83485    0   37 7700.00000 4012.83485  47.9%     -    0s\n",
      "     0     0 4090.13190    0   55 7700.00000 4090.13190  46.9%     -    0s\n",
      "H    0     0                    5943.0000000 4421.26223  25.6%     -    0s\n",
      "     0     0 4421.26223    0   52 5943.00000 4421.26223  25.6%     -    0s\n",
      "     0     0 4563.64170    0   58 5943.00000 4563.64170  23.2%     -    0s\n",
      "H    0     0                    5740.0000000 4563.64170  20.5%     -    0s\n",
      "H    0     0                    5566.0000000 4714.04680  15.3%     -    0s\n",
      "H    0     0                    5565.0000000 4714.04680  15.3%     -    0s\n",
      "     0     0 4714.04680    0   47 5565.00000 4714.04680  15.3%     -    0s\n",
      "     0     0 4714.10349    0   51 5565.00000 4714.10349  15.3%     -    0s\n",
      "     0     0 4714.22969    0   54 5565.00000 4714.22969  15.3%     -    0s\n",
      "     0     0 4714.22969    0   49 5565.00000 4714.22969  15.3%     -    0s\n",
      "     0     0 4714.22969    0   20 5565.00000 4714.22969  15.3%     -    0s\n",
      "     0     0 4714.22969    0   56 5565.00000 4714.22969  15.3%     -    0s\n",
      "     0     0 4714.22969    0   57 5565.00000 4714.22969  15.3%     -    0s\n",
      "     0     0 4714.22969    0   55 5565.00000 4714.22969  15.3%     -    0s\n",
      "     0     0 4757.86484    0   55 5565.00000 4757.86484  14.5%     -    0s\n",
      "     0     0 4757.86484    0   58 5565.00000 4757.86484  14.5%     -    0s\n",
      "     0     0 4761.20763    0   42 5565.00000 4761.20763  14.4%     -    0s\n",
      "     0     0 4761.20763    0   43 5565.00000 4761.20763  14.4%     -    0s\n",
      "     0     0 4761.20763    0   49 5565.00000 4761.20763  14.4%     -    0s\n",
      "     0     0 4761.20763    0   38 5565.00000 4761.20763  14.4%     -    0s\n",
      "H    0     0                    5012.0000000 4761.20763  5.00%     -    0s\n",
      "     0     0 4761.32343    0   17 5012.00000 4761.32343  5.00%     -    0s\n",
      "     0     0 4761.32343    0   25 5012.00000 4761.32343  5.00%     -    0s\n",
      "     0     0 4761.32343    0   53 5012.00000 4761.32343  5.00%     -    0s\n",
      "     0     0 4761.32343    0   70 5012.00000 4761.32343  5.00%     -    0s\n",
      "     0     0 4801.23204    0   65 5012.00000 4801.23204  4.21%     -    0s\n",
      "     0     0 4860.27823    0   52 5012.00000 4860.27823  3.03%     -    0s\n",
      "     0     0 4861.75697    0   56 5012.00000 4861.75697  3.00%     -    0s\n",
      "     0     0 4861.75697    0   57 5012.00000 4861.75697  3.00%     -    0s\n",
      "     0     0 4900.81712    0   57 5012.00000 4900.81712  2.22%     -    0s\n",
      "\n",
      "Cutting planes:\n",
      "  Gomory: 9\n",
      "  Implied bound: 7\n",
      "  MIR: 18\n",
      "  StrongCG: 2\n",
      "  GUB cover: 1\n",
      "  Inf proof: 1\n",
      "  RLT: 4\n",
      "  Relax-and-lift: 2\n",
      "\n",
      "Explored 1 nodes (1639 simplex iterations) in 0.33 seconds (0.10 work units)\n",
      "Thread count was 8 (of 8 available processors)\n",
      "\n",
      "Solution count 6: 5012 5565 5566 ... 7700\n",
      "\n",
      "Optimal solution found (tolerance 1.00e-04)\n",
      "Best objective 5.012000000000e+03, best bound 5.012000000000e+03, gap 0.0000%\n"
     ]
    }
   ],
   "source": [
    "\n",
    "start_time = time.time()\n",
    "m.optimize()\n",
    "end_time = time.time()\n"
   ]
  },
  {
   "cell_type": "code",
   "execution_count": 69,
   "id": "4d130101",
   "metadata": {},
   "outputs": [
    {
     "name": "stdout",
     "output_type": "stream",
     "text": [
      "Tempo total de execução do modelo:  0.33500003814697266\n",
      "Tempo real de execução:  0.3386821746826172\n"
     ]
    }
   ],
   "source": [
    "total_time = m.getAttr(\"Runtime\")\n",
    "print(\"Tempo total de execução do modelo: \", total_time)\n",
    "print(\"Tempo real de execução: \", end_time - start_time)\n"
   ]
  },
  {
   "cell_type": "code",
   "execution_count": 70,
   "id": "181bcb83",
   "metadata": {},
   "outputs": [
    {
     "name": "stdout",
     "output_type": "stream",
     "text": [
      "5012.0\n"
     ]
    }
   ],
   "source": [
    "if m.status == gp.GRB.Status.TIME_LIMIT:\n",
    "    print('Tempo limite atingido. Melhor solução encontrada até agora: ', m.ObjVal)\n",
    "else:\n",
    "    print(m.ObjVal)"
   ]
  },
  {
   "cell_type": "code",
   "execution_count": 76,
   "id": "8c7a9199",
   "metadata": {},
   "outputs": [
    {
     "data": {
      "text/plain": [
       "<gurobi.Model MIP instance VRPSPD: 151 constrs, 400 vars, Parameter changes: TimeLimit=60.0, Username=(user-defined)>"
      ]
     },
     "execution_count": 76,
     "metadata": {},
     "output_type": "execute_result"
    }
   ],
   "source": [
    "m"
   ]
  }
 ],
 "metadata": {
  "kernelspec": {
   "display_name": "Python 3.9.7 64-bit (system)",
   "language": "python",
   "name": "python3"
  },
  "language_info": {
   "codemirror_mode": {
    "name": "ipython",
    "version": 3
   },
   "file_extension": ".py",
   "mimetype": "text/x-python",
   "name": "python",
   "nbconvert_exporter": "python",
   "pygments_lexer": "ipython3",
   "version": "3.9.13"
  },
  "vscode": {
   "interpreter": {
    "hash": "ad2bdc8ecc057115af97d19610ffacc2b4e99fae6737bb82f5d7fb13d2f2c186"
   }
  }
 },
 "nbformat": 4,
 "nbformat_minor": 5
}
